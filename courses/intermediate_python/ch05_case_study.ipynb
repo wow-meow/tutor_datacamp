{
 "cells": [
  {
   "cell_type": "code",
   "execution_count": 1,
   "metadata": {},
   "outputs": [],
   "source": [
    "import numpy as np\n",
    "\n",
    "np.random.seed(123)"
   ]
  },
  {
   "cell_type": "code",
   "execution_count": 2,
   "metadata": {},
   "outputs": [
    {
     "name": "stdout",
     "output_type": "stream",
     "text": [
      "Diff of two random arrays: [0. 0. 0. 0. 0.]\n"
     ]
    }
   ],
   "source": [
    "np.random.seed(123)  # Starting from a seed\n",
    "# Array of 5 pseudo-random float numbers between 0 and 1\n",
    "\n",
    "randArr1 = np.random.rand(5)\n",
    "np.random.seed(123)  # Starting from a seed\n",
    "# Array of 5 pseudo-random float numbers between 0 and 1\n",
    "\n",
    "randArr2 = np.random.rand(5)\n",
    "# ReSeeding ensures reproducibility\n",
    "\n",
    "print(f\"Diff of two random arrays: {randArr1 - randArr2}\")\n",
    "assert np.array_equal(randArr1, randArr2)\n"
   ]
  },
  {
   "cell_type": "code",
   "execution_count": 4,
   "metadata": {},
   "outputs": [
    {
     "name": "stdout",
     "output_type": "stream",
     "text": [
      "1\n",
      "tail\n"
     ]
    }
   ],
   "source": [
    "coin = np.random.randint(0, 2)\n",
    "print(coin)\n",
    "if coin == 0:\n",
    "    print(\"head\")\n",
    "else:\n",
    "    print(\"tail\")"
   ]
  }
 ],
 "metadata": {
  "kernelspec": {
   "display_name": "learn-python",
   "language": "python",
   "name": "python3"
  },
  "language_info": {
   "codemirror_mode": {
    "name": "ipython",
    "version": 3
   },
   "file_extension": ".py",
   "mimetype": "text/x-python",
   "name": "python",
   "nbconvert_exporter": "python",
   "pygments_lexer": "ipython3",
   "version": "3.13.0"
  }
 },
 "nbformat": 4,
 "nbformat_minor": 2
}
